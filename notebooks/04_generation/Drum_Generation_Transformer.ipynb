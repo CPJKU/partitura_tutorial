{
 "cells": [
  {
   "cell_type": "markdown",
   "id": "2085cc7a",
   "metadata": {},
   "source": [
    "<a href=\"https://colab.research.google.com/github/CPJKU/partitura_tutorial/blob/main/notebooks/04_generation/Drum_Generation_Transformer.ipynb\" target=\"_parent\"><img src=\"https://colab.research.google.com/assets/colab-badge.svg\" alt=\"Open In Colab\"/></a>"
   ]
  },
  {
   "cell_type": "markdown",
   "id": "db255b2a",
   "metadata": {},
   "source": [
    "# Drum Generation Transformer\n",
    "\n",
    "## 1. Setup\n",
    "\n",
    "### Install packages\n",
    "\n",
    "Welcome to this partitura tutorial notebook! If you run it locally, we assume you cloned the full tutorial repository from https://github.com/CPJKU/partitura_tutorial.git and have partitura installed.\n",
    "\n",
    "Partitura is available in github https://github.com/CPJKU/partitura\n",
    "You can install it with `pip install partitura`.\n",
    "\n",
    "If any other imports fail, please install them in your local environment.\n",
    "\n",
    "If you run it in colab, partitura will be installed automatically."
   ]
  },
  {
   "cell_type": "code",
   "execution_count": 1,
   "id": "8dea15f8",
   "metadata": {},
   "outputs": [],
   "source": [
    "try:\n",
    "    import google.colab\n",
    "    IN_COLAB = True\n",
    "except:\n",
    "    IN_COLAB = False\n",
    "\n",
    "if IN_COLAB:\n",
    "    !pip install partitura\n",
    "else:\n",
    "    pass"
   ]
  },
  {
   "cell_type": "markdown",
   "id": "b011a3c8",
   "metadata": {},
   "source": [
    "### Imports\n",
    "\n",
    "Import the required packages."
   ]
  },
  {
   "cell_type": "code",
   "execution_count": 2,
   "id": "0df7e62e",
   "metadata": {},
   "outputs": [],
   "source": [
    "%matplotlib inline\n",
    "import numpy as np\n",
    "import pandas as pd\n",
    "import random\n",
    "import time\n",
    "import glob\n",
    "import matplotlib.pyplot as plt\n",
    "import copy\n",
    "import pickle\n",
    "import warnings\n",
    "warnings.simplefilter(\"ignore\", UserWarning)\n",
    "\n",
    "import torch\n",
    "from torch import nn, optim\n",
    "from torch.utils.data import Dataset, ConcatDataset, DataLoader\n",
    "from torch.nn import TransformerEncoder, TransformerEncoderLayer\n",
    "import os\n",
    "if not IN_COLAB:\n",
    "    os.environ['KMP_DUPLICATE_LIB_OK']='True'\n",
    "import partitura as pt"
   ]
  },
  {
   "cell_type": "markdown",
   "id": "84a21c7d",
   "metadata": {},
   "source": [
    "### External files\n",
    "\n",
    "If run locally, external scripts are loaded directly from the cloned tutorial repository.\n",
    "\n",
    "If run in colab, external scripts are imported by httpimport."
   ]
  },
  {
   "cell_type": "code",
   "execution_count": 3,
   "id": "c572d7e5",
   "metadata": {},
   "outputs": [],
   "source": [
    "if IN_COLAB:\n",
    "    # point to the raw script\n",
    "    passurl = \"https://raw.githubusercontent.com/CPJKU/partitura_tutorial/main/notebooks/04_generation/generation_helpers.py\"\n",
    "    # passurl = \"https://gist.githubusercontent.com/operatorequals/ee5049677e7bbc97af2941d1d3f04ace/raw/e55fa867d3fb350f70b2897bb415f410027dd7e4\"\n",
    "    # with httpimport.remote_repo([\"hello\"], passurl):\n",
    "    #     import (\n",
    "    #     INV_PITCH_DICT_SIMPLE,\n",
    "    #     tokens_2_notearray,\n",
    "    #     save_notearray_2_midifile,\n",
    "    #     generate_tokenized_data,\n",
    "    #     batch_data,\n",
    "    #     PositionalEncoding,\n",
    "    #     Transformer,\n",
    "    #     sample_from_logits,\n",
    "    #     sample_loop\n",
    "    # )\n",
    "else:\n",
    "    from generation_helpers import (\n",
    "        INV_PITCH_DICT_SIMPLE,\n",
    "        tokens_2_notearray,\n",
    "        save_notearray_2_midifile,\n",
    "        generate_tokenized_data,\n",
    "        batch_data,\n",
    "        PositionalEncoding,\n",
    "        Transformer,\n",
    "        sample_from_logits,\n",
    "        sample_loop\n",
    "    )\n",
    "    pass"
   ]
  },
  {
   "cell_type": "markdown",
   "id": "c5c723d9",
   "metadata": {},
   "source": [
    "## 2. Data Loading\n",
    " \n",
    "We load all midi files in 4-4 from the dataset using partitura. If you want to load a precomputed and preprocessed dataset you can skip the next cells until the last cell before section 4 where it is loaded."
   ]
  },
  {
   "cell_type": "code",
   "execution_count": 4,
   "id": "23bd6271",
   "metadata": {},
   "outputs": [],
   "source": [
    "directory = \"./groove-v1.0.0-midionly\"\n",
    "typ_44 = [os.path.basename(f) for f  in list(\n",
    "    glob.glob(directory + r\"\\groove\\*\\*\\*.mid\")) \n",
    "          if \"4-4\" in f]\n",
    "\n",
    "beat_type = [g.split(\"_\")[-2] for g  in typ_44]\n",
    "tempo = [int(g.split(\"_\")[-3]) for g  in typ_44]\n",
    "vals, counts = np.unique(tempo, return_counts = True)"
   ]
  },
  {
   "cell_type": "markdown",
   "id": "8a956c0d",
   "metadata": {},
   "source": [
    "### Histogram of tempos marked in file names"
   ]
  },
  {
   "cell_type": "code",
   "execution_count": 17,
   "id": "33f5e9ba",
   "metadata": {},
   "outputs": [
    {
     "data": {
      "text/plain": "(array([0., 0., 0., 0., 0., 0., 0., 0., 0., 0., 0., 0., 0., 0., 0., 0., 0.,\n        0., 0., 0., 0., 0., 0., 0., 0., 0., 0., 0., 0., 0., 0., 0., 0., 0.,\n        0., 0., 0., 0., 0., 0., 0., 0., 0., 0., 0., 0., 0., 0., 0., 0., 0.,\n        0., 0., 0., 0., 0., 0., 0., 0., 0.]),\n array([0.        , 0.01666667, 0.03333333, 0.05      , 0.06666667,\n        0.08333333, 0.1       , 0.11666667, 0.13333333, 0.15      ,\n        0.16666667, 0.18333333, 0.2       , 0.21666667, 0.23333333,\n        0.25      , 0.26666667, 0.28333333, 0.3       , 0.31666667,\n        0.33333333, 0.35      , 0.36666667, 0.38333333, 0.4       ,\n        0.41666667, 0.43333333, 0.45      , 0.46666667, 0.48333333,\n        0.5       , 0.51666667, 0.53333333, 0.55      , 0.56666667,\n        0.58333333, 0.6       , 0.61666667, 0.63333333, 0.65      ,\n        0.66666667, 0.68333333, 0.7       , 0.71666667, 0.73333333,\n        0.75      , 0.76666667, 0.78333333, 0.8       , 0.81666667,\n        0.83333333, 0.85      , 0.86666667, 0.88333333, 0.9       ,\n        0.91666667, 0.93333333, 0.95      , 0.96666667, 0.98333333,\n        1.        ]),\n <BarContainer object of 60 artists>)"
     },
     "execution_count": 17,
     "metadata": {},
     "output_type": "execute_result"
    },
    {
     "data": {
      "text/plain": "<Figure size 640x480 with 1 Axes>",
      "image/png": "[encoded data removed]"
     },
     "metadata": {},
     "output_type": "display_data"
    }
   ],
   "source": [
    "plt.plot(vals, counts, c = \"r\")\n",
    "plt.hist(np.array(tempo), bins= 60)"
   ]
  },
  {
   "cell_type": "code",
   "execution_count": 6,
   "id": "8ab07ea4",
   "metadata": {},
   "outputs": [],
   "source": [
    "def load_data(\n",
    "      directory = \"./groove-v1.0.0-midionly\",\n",
    "      min_seq_length=10, \n",
    "      time_sig=\"4-4\", \n",
    "      beat_type = None\n",
    "              ):\n",
    "    \"\"\"\n",
    "    loads groove dataset data from directory\n",
    "    into a list of dictionaries containing the\n",
    "    note array as well as note sequence metadata.\n",
    "    \n",
    "    Args:\n",
    "        directory: dir of the dataset\n",
    "        min_seq_length: minimal sequence length, a\n",
    "            all shorter performances are discarded\n",
    "        time_sig: only performances of this time sig\n",
    "            are loaded\n",
    "        beat_type: type of beat to load (\"beat\", \n",
    "            \"fill\", or None = both)\n",
    "        \n",
    "    Returns:\n",
    "        a list of dicts containing note arrays.\n",
    "        \n",
    "    \"\"\"\n",
    "    # load data\n",
    "    files = glob.glob(directory + r\"\\groove\\*\\*\\*.mid\")\n",
    "    files.sort()\n",
    "    sequences = []\n",
    "    if beat_type is None:\n",
    "        beat_types = [\"beat\", \"fill\"]\n",
    "    else:\n",
    "        beat_types = [beat_type]\n",
    "    for fn in files:\n",
    "        bn = os.path.basename(fn)\n",
    "        bns = bn.split(\"_\")\n",
    "        tempo = int(bns[-3])\n",
    "        bt = bns[-2]\n",
    "        ts = bns[-1].split('.')[-2]\n",
    "        if ts == time_sig and bt in beat_types:\n",
    "            seq = pt.load_performance_midi(fn, time_in_divs = True)[0]\n",
    "            if len(seq.notes) > min_seq_length:\n",
    "                na = seq.note_array()\n",
    "                namax = (na['onset_sec'] + na['duration_sec']).max()\n",
    "                namin = (na['onset_sec']).min()\n",
    "                dur_in_q = (namax - namin)/seq.ppq\n",
    "                seq_object = {\n",
    "                    \"id\": bn,\n",
    "                    \"na\": na,\n",
    "                    \"ppq\": seq.ppq,\n",
    "                    \"tempo\": tempo,\n",
    "                    \"beat_type\": bt,\n",
    "                    \"namax\": namax,\n",
    "                    \"namin\": namin,\n",
    "                    \"dur_in_q\": dur_in_q\n",
    "                }\n",
    "                sequences.append(seq_object)\n",
    "    return sequences"
   ]
  },
  {
   "cell_type": "markdown",
   "id": "4e8aa2d5",
   "metadata": {},
   "source": [
    "### Call the loading function (might take a moment)"
   ]
  },
  {
   "cell_type": "code",
   "execution_count": 7,
   "id": "d2829ce4",
   "metadata": {},
   "outputs": [],
   "source": [
    "seqs = load_data(directory = directory)"
   ]
  },
  {
   "cell_type": "markdown",
   "id": "478ac278",
   "metadata": {},
   "source": [
    "### Histogram of performance durations"
   ]
  },
  {
   "cell_type": "code",
   "execution_count": 8,
   "id": "89db8eee",
   "metadata": {},
   "outputs": [],
   "source": [
    "dur_in_quarters = [k[\"dur_in_q\"] for k in seqs if k[\"beat_type\"] == \"beat\"]"
   ]
  },
  {
   "cell_type": "code",
   "execution_count": 9,
   "id": "35bb2f2a",
   "metadata": {},
   "outputs": [
    {
     "name": "stdout",
     "output_type": "stream",
     "text": [
      "0 0\n"
     ]
    },
    {
     "data": {
      "text/plain": "<Figure size 640x480 with 1 Axes>",
      "image/png": "[encoded data removed]"
     },
     "metadata": {},
     "output_type": "display_data"
    }
   ],
   "source": [
    "plt.hist(dur_in_quarters, bins = 60)\n",
    "liq = np.array(dur_in_quarters)\n",
    "print((liq >= 4).sum(), (liq >= -4).sum())"
   ]
  },
  {
   "cell_type": "markdown",
   "id": "d4994b15",
   "metadata": {},
   "source": [
    "## 3. Data Preprocessing: Segmentation & Tokenization"
   ]
  },
  {
   "cell_type": "code",
   "execution_count": 10,
   "id": "60a8d159",
   "metadata": {},
   "outputs": [],
   "source": [
    "PITCH_DICT_SIMPLE = {\n",
    "    36:0, #Kick\n",
    "    38:1, #Snare (Head)\n",
    "    40:1, #Snare (Rim) \n",
    "    37:1, #Snare X-Stick\n",
    "    48:2, #Tom 1\n",
    "    50:2, #Tom 1 (Rim) \n",
    "    45:2, #Tom 2\n",
    "    47:2, #Tom 2 (Rim) \n",
    "    43:2, #Tom 3 \n",
    "    58:2, #Tom 3 (Rim)\n",
    "    46:3, #HH Open (Bow) \n",
    "    26:3, #HH Open (Edge) \n",
    "    42:3, #HH Closed (Bow)\n",
    "    22:3, #HH Closed (Edge)\n",
    "    44:3, #HH Pedal\n",
    "    49:4, #Crash 1\n",
    "    55:4, #Crash 1\n",
    "    57:4, #Crash 2\n",
    "    52:4, #Crash 2 \n",
    "    51:5, #Ride (Bow) \n",
    "    59:5, #Ride (Edge) \n",
    "    53:5, #Ride (Bell)\n",
    "    'default':6\n",
    "}\n",
    "\n",
    "def pitch_encoder(pitch, pitch_dict = PITCH_DICT_SIMPLE):\n",
    "    # 22 different instruments  in dataset, default 23rd class \n",
    "    a = pitch_dict['default']\n",
    "    try:\n",
    "        a = pitch_dict[pitch]\n",
    "    except:\n",
    "        print(\"unknown instrument\")\n",
    "    return a\n",
    "\n",
    "def time_encoder(time_div, ppq):\n",
    "    # base 2 encoding of time, starting at half note, ending at 128th\n",
    "    power_two_classes = list()\n",
    "    for i in range(7):\n",
    "        power_two_classes.append(int(time_div // (ppq * (2 **(1-i)))))\n",
    "        time_div = time_div % (ppq * 2 **(1-i))\n",
    "    return power_two_classes\n",
    "\n",
    "def velocity_encoder(vel):\n",
    "    # 8 classes of velocity\n",
    "    return vel // 2 ** 4\n",
    "\n",
    "def tempo_encoder(tmp):\n",
    "    # 8 classes of tempo between 60 and 180\n",
    "    return (np.clip(tmp, 60, 179) - 60) // 15\n",
    "\n",
    "def tokenizer(seq):\n",
    "    tokens = list()\n",
    "    na = seq[\"na\"]\n",
    "    fill_encoding = 0\n",
    "    if seq[\"beat_type\"] == \"fill\":\n",
    "        fill_encoding = 1\n",
    "    tempo_encoding = tempo_encoder(seq[\"tempo\"])\n",
    "\n",
    "    for note in na:\n",
    "        te = time_encoder(note[\"onset_sec\"]%(seq['ppq']*4), seq['ppq'])\n",
    "        pe = pitch_encoder(note[\"pitch\"])\n",
    "        ve = velocity_encoder(note[\"velocity\"])\n",
    "        \n",
    "        tokens.append(te + [pe, ve, tempo_encoding, fill_encoding])\n",
    "\n",
    "    return tokens\n",
    "\n",
    "def measure_segmentation(seq, beats = 4, minimal_notes = 1):\n",
    "    mod = beats * seq['ppq']\n",
    "    no_of_measures = int(seq[\"namax\"] // mod + 1)\n",
    "    \n",
    "    segmented_seq = list()\n",
    "    for measure_idx in range(no_of_measures):\n",
    "        na = seq[\"na\"] \n",
    "        new_na = np.copy(na[na[\"onset_sec\"] // mod == measure_idx])\n",
    "        if len(new_na) >= minimal_notes:\n",
    "            new_seq = copy.copy(seq)\n",
    "            new_seq[\"na\"] = new_na\n",
    "            segmented_seq.append(new_seq)\n",
    "        else:\n",
    "            continue\n",
    "    return segmented_seq"
   ]
  },
  {
   "cell_type": "code",
   "execution_count": 11,
   "id": "6feff872",
   "metadata": {},
   "outputs": [],
   "source": [
    "# try uncommenting the next lines to see the outputs of these functions.\n",
    "# t = tokenizer(seqs[0])\n",
    "# ss = measure_segmentation(seqs[0], minimal_notes = 18)"
   ]
  },
  {
   "cell_type": "code",
   "execution_count": 11,
   "id": "c6bfce70",
   "metadata": {},
   "outputs": [],
   "source": []
  },
  {
   "cell_type": "markdown",
   "id": "90068bf0",
   "metadata": {},
   "source": [
    "### Training set generation (might take a moment)"
   ]
  },
  {
   "cell_type": "code",
   "execution_count": 12,
   "id": "0f510c3d",
   "metadata": {},
   "outputs": [
    {
     "name": "stdout",
     "output_type": "stream",
     "text": [
      "0 batches of size 128\n"
     ]
    }
   ],
   "source": [
    "train_data = generate_tokenized_data(seqs,\n",
    "                                     measure_segmentation,\n",
    "                                     tokenizer,\n",
    "                                     minimal_notes = 20)\n",
    "train_dataloader = batch_data(train_data,\n",
    "                              batch_size=128)"
   ]
  },
  {
   "cell_type": "code",
   "execution_count": 13,
   "id": "20e0074e",
   "metadata": {},
   "outputs": [],
   "source": [
    "# try uncommenting the next lines to see the outputs of these functions.\n",
    "# train_dataloader[0].shape # batch, sequence, tokens"
   ]
  },
  {
   "cell_type": "markdown",
   "id": "e7824e7a",
   "metadata": {},
   "source": [
    "### Saving and loading a preprocessed training set"
   ]
  },
  {
   "cell_type": "code",
   "execution_count": 14,
   "id": "52895b50",
   "metadata": {},
   "outputs": [],
   "source": [
    "# with open('./dataset129.pyc', 'wb') as fh:\n",
    "#     pickle.dump(train_dataloader, fh)"
   ]
  },
  {
   "cell_type": "code",
   "execution_count": 18,
   "id": "4201715f",
   "metadata": {},
   "outputs": [],
   "source": [
    "# with open('./dataset129.pyc', 'rb') as fh:\n",
    "#     train_dataloader = pickle.load(fh)"
   ]
  },
  {
   "cell_type": "markdown",
   "id": "b5de36f1",
   "metadata": {},
   "source": [
    "## 4. Model "
   ]
  },
  {
   "cell_type": "markdown",
   "id": "9535b9ed",
   "metadata": {},
   "source": [
    "![MODEL](https://raw.githubusercontent.com/CPJKU/partitura_tutorial/main/static/drumtransformer.gif)"
   ]
  },
  {
   "cell_type": "code",
   "execution_count": 19,
   "id": "30334b24",
   "metadata": {},
   "outputs": [],
   "source": [
    "class MultiEmbedding(nn.Module):\n",
    "    '''A Multiembedding'''\n",
    "    # Initialization\n",
    "    def __init__(self, tokens2dims):\n",
    "        super().__init__()\n",
    "        # self.em_time0 = nn.Embedding(num_tokens, dim_model)\n",
    "        self.em_time0 = nn.Embedding(tokens2dims[0][0], tokens2dims[0][1])\n",
    "        self.em_time1 = nn.Embedding(tokens2dims[1][0], tokens2dims[1][1])\n",
    "        self.em_time2 = nn.Embedding(tokens2dims[2][0], tokens2dims[2][1])\n",
    "        self.em_time3 = nn.Embedding(tokens2dims[3][0], tokens2dims[3][1])\n",
    "        self.em_time4 = nn.Embedding(tokens2dims[4][0], tokens2dims[4][1])\n",
    "        self.em_time5 = nn.Embedding(tokens2dims[5][0], tokens2dims[5][1])\n",
    "        self.em_time6 = nn.Embedding(tokens2dims[6][0], tokens2dims[6][1])\n",
    "        self.em_pitch = nn.Embedding(tokens2dims[7][0], tokens2dims[7][1])\n",
    "        self.em_velocity = nn.Embedding(tokens2dims[8][0], tokens2dims[8][1])\n",
    "        self.em_tempo = nn.Embedding(tokens2dims[9][0], tokens2dims[9][1])\n",
    "        self.em_beat = nn.Embedding(tokens2dims[10][0], tokens2dims[10][1])\n",
    "        # self.total_dim = np.array([[2,2,2,2,2,2,2, # time encoding\n",
    "        #                  2,2,2,2]]).sum() # instrument, velocity, tempo, beat/fill\n",
    "    def forward(self, x):\n",
    "        '''Update Function and predict function of the model'''\n",
    "        \n",
    "        output = torch.cat((\n",
    "        self.em_time0(x[:,:,0]),\n",
    "        self.em_time1(x[:,:,1]),\n",
    "        self.em_time2(x[:,:,2]),\n",
    "        self.em_time3(x[:,:,3]),\n",
    "        self.em_time4(x[:,:,4]),\n",
    "        self.em_time5(x[:,:,5]),\n",
    "        self.em_time6(x[:,:,6]),\n",
    "        self.em_pitch(x[:,:,7]),\n",
    "        self.em_velocity(x[:,:,8]),\n",
    "        self.em_tempo(x[:,:,9]),\n",
    "        self.em_beat(x[:,:,10])),\n",
    "        dim=-1)\n",
    "        return output"
   ]
  },
  {
   "cell_type": "code",
   "execution_count": 19,
   "id": "ba131735",
   "metadata": {},
   "outputs": [],
   "source": []
  },
  {
   "cell_type": "markdown",
   "id": "9bad68a5",
   "metadata": {},
   "source": [
    "## 5. Training"
   ]
  },
  {
   "cell_type": "code",
   "execution_count": 20,
   "id": "533a46c8",
   "metadata": {},
   "outputs": [],
   "source": [
    "def train_loop(model, opt, loss_fn, dataloader, tokens2dims):\n",
    "    \"\"\"\n",
    "    \"\"\"\n",
    "    t2d = np.array(tokens2dims)\n",
    "    pred_dims = np.concatenate(([0],np.cumsum(t2d[:,0])))\n",
    "    model.train()\n",
    "    total_loss = 0\n",
    "    \n",
    "    for batch in dataloader:\n",
    "        y = batch\n",
    "        y = torch.tensor(y).to(device)\n",
    "\n",
    "        # Now we shift the tgt by one so with the <SOS> we predict the token at pos 1\n",
    "        y_input = y[:,:-1,:]\n",
    "        y_expected = y[:,1:,:]\n",
    "        \n",
    "        # Get mask to mask out the next words\n",
    "        sequence_length = y_input.size(1)\n",
    "        tgt_mask = model.get_tgt_mask(sequence_length).to(device)\n",
    "\n",
    "        # Standard training except we pass in y_input and tgt_mask\n",
    "        pred = model(y_input, tgt_mask)\n",
    "\n",
    "        # Permute pred to have batch size first again, that is batch / logits / sequence\n",
    "        pred = pred.permute(1, 2, 0)      \n",
    "        loss = 0\n",
    "        for k in range(11):\n",
    "            # batch / logits / sequence ----- batch / sequence / tokens\n",
    "            loss += loss_fn(pred[:,pred_dims[k]:pred_dims[k+1],:], y_expected[:,:,k])\n",
    "            \n",
    "        opt.zero_grad()\n",
    "        loss.backward()\n",
    "        opt.step()\n",
    "    \n",
    "        total_loss += loss.detach().item()\n",
    "        \n",
    "    return total_loss / len(dataloader)"
   ]
  },
  {
   "cell_type": "code",
   "execution_count": 21,
   "id": "3a21b521",
   "metadata": {},
   "outputs": [],
   "source": [
    "def fit(model, opt, loss_fn, train_dataloader, t2d, epochs):\n",
    "    \"\"\"\n",
    "    \"\"\"\n",
    "    train_loss_list = []\n",
    "    \n",
    "    print(\"Training and validating model\")\n",
    "    for epoch in range(epochs):\n",
    "        print(\"-\"*25, f\"Epoch {epoch + 1}\",\"-\"*25)\n",
    "        \n",
    "        train_loss = train_loop(model, opt, loss_fn, train_dataloader, t2d)\n",
    "        train_loss_list += [train_loss]\n",
    "        \n",
    "\n",
    "        \n",
    "        print(f\"Training loss: {train_loss:.4f}\")\n",
    "        print()\n",
    "        \n",
    "    return train_loss_list"
   ]
  },
  {
   "cell_type": "markdown",
   "id": "260b341c",
   "metadata": {},
   "source": [
    "### Initialize Model"
   ]
  },
  {
   "cell_type": "code",
   "execution_count": 22,
   "id": "0b844bf6",
   "metadata": {},
   "outputs": [
    {
     "name": "stdout",
     "output_type": "stream",
     "text": [
      "Number of parameters in model:  264700\n"
     ]
    }
   ],
   "source": [
    "tokens2dims = [ \n",
    "            (4, 8),\n",
    "            (4, 8),\n",
    "            (4, 8),\n",
    "            (4, 4),\n",
    "            (4, 4),\n",
    "            (4, 4),\n",
    "            (4, 4),\n",
    "            (8, 16),\n",
    "            (10, 12),\n",
    "            (10, 12),\n",
    "            (4, 4)\n",
    "        ]\n",
    "\n",
    "model_spec = dict(\n",
    "    tokens2dims=tokens2dims,\n",
    "    num_heads=6,\n",
    "    num_decoder_layers=6,\n",
    "    dropout_p=0.1\n",
    ")\n",
    "\n",
    "device = \"cuda\" if torch.cuda.is_available() else \"cpu\"\n",
    "model = Transformer(\n",
    "    tokens2dims = model_spec[\"tokens2dims\"], \n",
    "    MultiEmbedding = MultiEmbedding, \n",
    "    num_heads = model_spec[\"num_heads\"], \n",
    "    num_decoder_layers = model_spec[\"num_decoder_layers\"], \n",
    "    dropout_p = model_spec[\"dropout_p\"], \n",
    ").to(device)\n",
    "\n",
    "opt = torch.optim.Adam(model.parameters(), lr=0.002)\n",
    "loss_fn = nn.CrossEntropyLoss()\n",
    "\n",
    "pytorch_total_params = sum(p.numel() for p in model.parameters() if p.requires_grad)\n",
    "print(\"Number of parameters in model: \", pytorch_total_params)"
   ]
  },
  {
   "cell_type": "markdown",
   "id": "496e170c",
   "metadata": {},
   "source": [
    "## 6. LOOP (only call to retrain / finetrain)"
   ]
  },
  {
   "cell_type": "code",
   "execution_count": 23,
   "id": "56a96d2d",
   "metadata": {},
   "outputs": [
    {
     "data": {
      "text/plain": "'\\nEPOCH = 1\\nPATH = \"modelname.pt\"\\nLOSS = train_loss_list[-1]\\nMODEL_SPEC = model_spec\\n\\ntorch.save({\\n            \\'epoch\\': EPOCH,\\n           \\'model_state_dict\\': model.state_dict(),\\n            \\'optimizer_state_dict\\': opt.state_dict(),\\n            \\'loss\\': LOSS,\\n            \\'model_spec\\': MODEL_SPEC,\\n            }, PATH)\\n'"
     },
     "execution_count": 23,
     "metadata": {},
     "output_type": "execute_result"
    }
   ],
   "source": [
    "\"\"\"\n",
    "EPOCH = 1\n",
    "PATH = \"modelname.pt\"\n",
    "LOSS = train_loss_list[-1]\n",
    "MODEL_SPEC = model_spec\n",
    "\n",
    "torch.save({\n",
    "            'epoch': EPOCH,\n",
    "           'model_state_dict': model.state_dict(),\n",
    "            'optimizer_state_dict': opt.state_dict(),\n",
    "            'loss': LOSS,\n",
    "            'model_spec': MODEL_SPEC,\n",
    "            }, PATH)\n",
    "\"\"\""
   ]
  },
  {
   "cell_type": "code",
   "execution_count": 24,
   "id": "028cdce2",
   "metadata": {},
   "outputs": [
    {
     "ename": "RuntimeError",
     "evalue": "Attempting to deserialize object on a CUDA device but torch.cuda.is_available() is False. If you are running on a CPU-only machine, please use torch.load with map_location=torch.device('cpu') to map your storages to the CPU.",
     "output_type": "error",
     "traceback": [
      "\u001B[0;31m---------------------------------------------------------------------------\u001B[0m",
      "\u001B[0;31mRuntimeError\u001B[0m                              Traceback (most recent call last)",
      "Cell \u001B[0;32mIn [24], line 3\u001B[0m\n\u001B[1;32m      1\u001B[0m PATH \u001B[38;5;241m=\u001B[39m \u001B[38;5;124m\"\u001B[39m\u001B[38;5;124mDrum_Transformer_Checkpoint.pt\u001B[39m\u001B[38;5;124m\"\u001B[39m\n\u001B[0;32m----> 3\u001B[0m checkpoint \u001B[38;5;241m=\u001B[39m \u001B[43mtorch\u001B[49m\u001B[38;5;241;43m.\u001B[39;49m\u001B[43mload\u001B[49m\u001B[43m(\u001B[49m\u001B[43mPATH\u001B[49m\u001B[43m)\u001B[49m\n\u001B[1;32m      4\u001B[0m model\u001B[38;5;241m.\u001B[39mload_state_dict(checkpoint[\u001B[38;5;124m'\u001B[39m\u001B[38;5;124mmodel_state_dict\u001B[39m\u001B[38;5;124m'\u001B[39m])\n\u001B[1;32m      5\u001B[0m opt\u001B[38;5;241m.\u001B[39mload_state_dict(checkpoint[\u001B[38;5;124m'\u001B[39m\u001B[38;5;124moptimizer_state_dict\u001B[39m\u001B[38;5;124m'\u001B[39m])\n",
      "File \u001B[0;32m~/miniconda3/envs/partitura_tutorial/lib/python3.10/site-packages/torch/serialization.py:789\u001B[0m, in \u001B[0;36mload\u001B[0;34m(f, map_location, pickle_module, weights_only, **pickle_load_args)\u001B[0m\n\u001B[1;32m    787\u001B[0m             \u001B[38;5;28;01mexcept\u001B[39;00m \u001B[38;5;167;01mRuntimeError\u001B[39;00m \u001B[38;5;28;01mas\u001B[39;00m e:\n\u001B[1;32m    788\u001B[0m                 \u001B[38;5;28;01mraise\u001B[39;00m pickle\u001B[38;5;241m.\u001B[39mUnpicklingError(UNSAFE_MESSAGE \u001B[38;5;241m+\u001B[39m \u001B[38;5;28mstr\u001B[39m(e)) \u001B[38;5;28;01mfrom\u001B[39;00m \u001B[38;5;28mNone\u001B[39m\n\u001B[0;32m--> 789\u001B[0m         \u001B[38;5;28;01mreturn\u001B[39;00m \u001B[43m_load\u001B[49m\u001B[43m(\u001B[49m\u001B[43mopened_zipfile\u001B[49m\u001B[43m,\u001B[49m\u001B[43m \u001B[49m\u001B[43mmap_location\u001B[49m\u001B[43m,\u001B[49m\u001B[43m \u001B[49m\u001B[43mpickle_module\u001B[49m\u001B[43m,\u001B[49m\u001B[43m \u001B[49m\u001B[38;5;241;43m*\u001B[39;49m\u001B[38;5;241;43m*\u001B[39;49m\u001B[43mpickle_load_args\u001B[49m\u001B[43m)\u001B[49m\n\u001B[1;32m    790\u001B[0m \u001B[38;5;28;01mif\u001B[39;00m weights_only:\n\u001B[1;32m    791\u001B[0m     \u001B[38;5;28;01mtry\u001B[39;00m:\n",
      "File \u001B[0;32m~/miniconda3/envs/partitura_tutorial/lib/python3.10/site-packages/torch/serialization.py:1131\u001B[0m, in \u001B[0;36m_load\u001B[0;34m(zip_file, map_location, pickle_module, pickle_file, **pickle_load_args)\u001B[0m\n\u001B[1;32m   1129\u001B[0m unpickler \u001B[38;5;241m=\u001B[39m UnpicklerWrapper(data_file, \u001B[38;5;241m*\u001B[39m\u001B[38;5;241m*\u001B[39mpickle_load_args)\n\u001B[1;32m   1130\u001B[0m unpickler\u001B[38;5;241m.\u001B[39mpersistent_load \u001B[38;5;241m=\u001B[39m persistent_load\n\u001B[0;32m-> 1131\u001B[0m result \u001B[38;5;241m=\u001B[39m \u001B[43munpickler\u001B[49m\u001B[38;5;241;43m.\u001B[39;49m\u001B[43mload\u001B[49m\u001B[43m(\u001B[49m\u001B[43m)\u001B[49m\n\u001B[1;32m   1133\u001B[0m torch\u001B[38;5;241m.\u001B[39m_utils\u001B[38;5;241m.\u001B[39m_validate_loaded_sparse_tensors()\n\u001B[1;32m   1135\u001B[0m \u001B[38;5;28;01mreturn\u001B[39;00m result\n",
      "File \u001B[0;32m~/miniconda3/envs/partitura_tutorial/lib/python3.10/site-packages/torch/serialization.py:1101\u001B[0m, in \u001B[0;36m_load.<locals>.persistent_load\u001B[0;34m(saved_id)\u001B[0m\n\u001B[1;32m   1099\u001B[0m \u001B[38;5;28;01mif\u001B[39;00m key \u001B[38;5;129;01mnot\u001B[39;00m \u001B[38;5;129;01min\u001B[39;00m loaded_storages:\n\u001B[1;32m   1100\u001B[0m     nbytes \u001B[38;5;241m=\u001B[39m numel \u001B[38;5;241m*\u001B[39m torch\u001B[38;5;241m.\u001B[39m_utils\u001B[38;5;241m.\u001B[39m_element_size(dtype)\n\u001B[0;32m-> 1101\u001B[0m     \u001B[43mload_tensor\u001B[49m\u001B[43m(\u001B[49m\u001B[43mdtype\u001B[49m\u001B[43m,\u001B[49m\u001B[43m \u001B[49m\u001B[43mnbytes\u001B[49m\u001B[43m,\u001B[49m\u001B[43m \u001B[49m\u001B[43mkey\u001B[49m\u001B[43m,\u001B[49m\u001B[43m \u001B[49m\u001B[43m_maybe_decode_ascii\u001B[49m\u001B[43m(\u001B[49m\u001B[43mlocation\u001B[49m\u001B[43m)\u001B[49m\u001B[43m)\u001B[49m\n\u001B[1;32m   1103\u001B[0m \u001B[38;5;28;01mreturn\u001B[39;00m loaded_storages[key]\n",
      "File \u001B[0;32m~/miniconda3/envs/partitura_tutorial/lib/python3.10/site-packages/torch/serialization.py:1083\u001B[0m, in \u001B[0;36m_load.<locals>.load_tensor\u001B[0;34m(dtype, numel, key, location)\u001B[0m\n\u001B[1;32m   1079\u001B[0m storage \u001B[38;5;241m=\u001B[39m zip_file\u001B[38;5;241m.\u001B[39mget_storage_from_record(name, numel, torch\u001B[38;5;241m.\u001B[39mUntypedStorage)\u001B[38;5;241m.\u001B[39mstorage()\u001B[38;5;241m.\u001B[39muntyped()\n\u001B[1;32m   1080\u001B[0m \u001B[38;5;66;03m# TODO: Once we decide to break serialization FC, we can\u001B[39;00m\n\u001B[1;32m   1081\u001B[0m \u001B[38;5;66;03m# stop wrapping with TypedStorage\u001B[39;00m\n\u001B[1;32m   1082\u001B[0m loaded_storages[key] \u001B[38;5;241m=\u001B[39m torch\u001B[38;5;241m.\u001B[39mstorage\u001B[38;5;241m.\u001B[39mTypedStorage(\n\u001B[0;32m-> 1083\u001B[0m     wrap_storage\u001B[38;5;241m=\u001B[39m\u001B[43mrestore_location\u001B[49m\u001B[43m(\u001B[49m\u001B[43mstorage\u001B[49m\u001B[43m,\u001B[49m\u001B[43m \u001B[49m\u001B[43mlocation\u001B[49m\u001B[43m)\u001B[49m,\n\u001B[1;32m   1084\u001B[0m     dtype\u001B[38;5;241m=\u001B[39mdtype)\n",
      "File \u001B[0;32m~/miniconda3/envs/partitura_tutorial/lib/python3.10/site-packages/torch/serialization.py:215\u001B[0m, in \u001B[0;36mdefault_restore_location\u001B[0;34m(storage, location)\u001B[0m\n\u001B[1;32m    213\u001B[0m \u001B[38;5;28;01mdef\u001B[39;00m \u001B[38;5;21mdefault_restore_location\u001B[39m(storage, location):\n\u001B[1;32m    214\u001B[0m     \u001B[38;5;28;01mfor\u001B[39;00m _, _, fn \u001B[38;5;129;01min\u001B[39;00m _package_registry:\n\u001B[0;32m--> 215\u001B[0m         result \u001B[38;5;241m=\u001B[39m \u001B[43mfn\u001B[49m\u001B[43m(\u001B[49m\u001B[43mstorage\u001B[49m\u001B[43m,\u001B[49m\u001B[43m \u001B[49m\u001B[43mlocation\u001B[49m\u001B[43m)\u001B[49m\n\u001B[1;32m    216\u001B[0m         \u001B[38;5;28;01mif\u001B[39;00m result \u001B[38;5;129;01mis\u001B[39;00m \u001B[38;5;129;01mnot\u001B[39;00m \u001B[38;5;28;01mNone\u001B[39;00m:\n\u001B[1;32m    217\u001B[0m             \u001B[38;5;28;01mreturn\u001B[39;00m result\n",
      "File \u001B[0;32m~/miniconda3/envs/partitura_tutorial/lib/python3.10/site-packages/torch/serialization.py:182\u001B[0m, in \u001B[0;36m_cuda_deserialize\u001B[0;34m(obj, location)\u001B[0m\n\u001B[1;32m    180\u001B[0m \u001B[38;5;28;01mdef\u001B[39;00m \u001B[38;5;21m_cuda_deserialize\u001B[39m(obj, location):\n\u001B[1;32m    181\u001B[0m     \u001B[38;5;28;01mif\u001B[39;00m location\u001B[38;5;241m.\u001B[39mstartswith(\u001B[38;5;124m'\u001B[39m\u001B[38;5;124mcuda\u001B[39m\u001B[38;5;124m'\u001B[39m):\n\u001B[0;32m--> 182\u001B[0m         device \u001B[38;5;241m=\u001B[39m \u001B[43mvalidate_cuda_device\u001B[49m\u001B[43m(\u001B[49m\u001B[43mlocation\u001B[49m\u001B[43m)\u001B[49m\n\u001B[1;32m    183\u001B[0m         \u001B[38;5;28;01mif\u001B[39;00m \u001B[38;5;28mgetattr\u001B[39m(obj, \u001B[38;5;124m\"\u001B[39m\u001B[38;5;124m_torch_load_uninitialized\u001B[39m\u001B[38;5;124m\"\u001B[39m, \u001B[38;5;28;01mFalse\u001B[39;00m):\n\u001B[1;32m    184\u001B[0m             \u001B[38;5;28;01mwith\u001B[39;00m torch\u001B[38;5;241m.\u001B[39mcuda\u001B[38;5;241m.\u001B[39mdevice(device):\n",
      "File \u001B[0;32m~/miniconda3/envs/partitura_tutorial/lib/python3.10/site-packages/torch/serialization.py:166\u001B[0m, in \u001B[0;36mvalidate_cuda_device\u001B[0;34m(location)\u001B[0m\n\u001B[1;32m    163\u001B[0m device \u001B[38;5;241m=\u001B[39m torch\u001B[38;5;241m.\u001B[39mcuda\u001B[38;5;241m.\u001B[39m_utils\u001B[38;5;241m.\u001B[39m_get_device_index(location, \u001B[38;5;28;01mTrue\u001B[39;00m)\n\u001B[1;32m    165\u001B[0m \u001B[38;5;28;01mif\u001B[39;00m \u001B[38;5;129;01mnot\u001B[39;00m torch\u001B[38;5;241m.\u001B[39mcuda\u001B[38;5;241m.\u001B[39mis_available():\n\u001B[0;32m--> 166\u001B[0m     \u001B[38;5;28;01mraise\u001B[39;00m \u001B[38;5;167;01mRuntimeError\u001B[39;00m(\u001B[38;5;124m'\u001B[39m\u001B[38;5;124mAttempting to deserialize object on a CUDA \u001B[39m\u001B[38;5;124m'\u001B[39m\n\u001B[1;32m    167\u001B[0m                        \u001B[38;5;124m'\u001B[39m\u001B[38;5;124mdevice but torch.cuda.is_available() is False. \u001B[39m\u001B[38;5;124m'\u001B[39m\n\u001B[1;32m    168\u001B[0m                        \u001B[38;5;124m'\u001B[39m\u001B[38;5;124mIf you are running on a CPU-only machine, \u001B[39m\u001B[38;5;124m'\u001B[39m\n\u001B[1;32m    169\u001B[0m                        \u001B[38;5;124m'\u001B[39m\u001B[38;5;124mplease use torch.load with map_location=torch.device(\u001B[39m\u001B[38;5;130;01m\\'\u001B[39;00m\u001B[38;5;124mcpu\u001B[39m\u001B[38;5;130;01m\\'\u001B[39;00m\u001B[38;5;124m) \u001B[39m\u001B[38;5;124m'\u001B[39m\n\u001B[1;32m    170\u001B[0m                        \u001B[38;5;124m'\u001B[39m\u001B[38;5;124mto map your storages to the CPU.\u001B[39m\u001B[38;5;124m'\u001B[39m)\n\u001B[1;32m    171\u001B[0m device_count \u001B[38;5;241m=\u001B[39m torch\u001B[38;5;241m.\u001B[39mcuda\u001B[38;5;241m.\u001B[39mdevice_count()\n\u001B[1;32m    172\u001B[0m \u001B[38;5;28;01mif\u001B[39;00m device \u001B[38;5;241m>\u001B[39m\u001B[38;5;241m=\u001B[39m device_count:\n",
      "\u001B[0;31mRuntimeError\u001B[0m: Attempting to deserialize object on a CUDA device but torch.cuda.is_available() is False. If you are running on a CPU-only machine, please use torch.load with map_location=torch.device('cpu') to map your storages to the CPU."
     ]
    }
   ],
   "source": [
    "PATH = \"Drum_Transformer_Checkpoint.pt\"\n",
    "\n",
    "checkpoint = torch.load(PATH)\n",
    "model.load_state_dict(checkpoint['model_state_dict'])\n",
    "opt.load_state_dict(checkpoint['optimizer_state_dict'])"
   ]
  },
  {
   "cell_type": "code",
   "execution_count": 25,
   "id": "82d54647",
   "metadata": {},
   "outputs": [
    {
     "name": "stdout",
     "output_type": "stream",
     "text": [
      "Training and validating model\n",
      "------------------------- Epoch 1 -------------------------\n"
     ]
    },
    {
     "ename": "ZeroDivisionError",
     "evalue": "division by zero",
     "output_type": "error",
     "traceback": [
      "\u001B[0;31m---------------------------------------------------------------------------\u001B[0m",
      "\u001B[0;31mZeroDivisionError\u001B[0m                         Traceback (most recent call last)",
      "Cell \u001B[0;32mIn [25], line 1\u001B[0m\n\u001B[0;32m----> 1\u001B[0m train_loss_list \u001B[38;5;241m=\u001B[39m \u001B[43mfit\u001B[49m\u001B[43m(\u001B[49m\u001B[43mmodel\u001B[49m\u001B[43m,\u001B[49m\u001B[43m \u001B[49m\u001B[43mopt\u001B[49m\u001B[43m,\u001B[49m\u001B[43m \u001B[49m\u001B[43mloss_fn\u001B[49m\u001B[43m,\u001B[49m\u001B[43m \u001B[49m\u001B[43mtrain_dataloader\u001B[49m\u001B[43m,\u001B[49m\u001B[43m \u001B[49m\u001B[43mtokens2dims\u001B[49m\u001B[43m,\u001B[49m\u001B[43m \u001B[49m\u001B[38;5;241;43m3\u001B[39;49m\u001B[43m)\u001B[49m\n",
      "Cell \u001B[0;32mIn [21], line 10\u001B[0m, in \u001B[0;36mfit\u001B[0;34m(model, opt, loss_fn, train_dataloader, t2d, epochs)\u001B[0m\n\u001B[1;32m      7\u001B[0m \u001B[38;5;28;01mfor\u001B[39;00m epoch \u001B[38;5;129;01min\u001B[39;00m \u001B[38;5;28mrange\u001B[39m(epochs):\n\u001B[1;32m      8\u001B[0m     \u001B[38;5;28mprint\u001B[39m(\u001B[38;5;124m\"\u001B[39m\u001B[38;5;124m-\u001B[39m\u001B[38;5;124m\"\u001B[39m\u001B[38;5;241m*\u001B[39m\u001B[38;5;241m25\u001B[39m, \u001B[38;5;124mf\u001B[39m\u001B[38;5;124m\"\u001B[39m\u001B[38;5;124mEpoch \u001B[39m\u001B[38;5;132;01m{\u001B[39;00mepoch \u001B[38;5;241m+\u001B[39m \u001B[38;5;241m1\u001B[39m\u001B[38;5;132;01m}\u001B[39;00m\u001B[38;5;124m\"\u001B[39m,\u001B[38;5;124m\"\u001B[39m\u001B[38;5;124m-\u001B[39m\u001B[38;5;124m\"\u001B[39m\u001B[38;5;241m*\u001B[39m\u001B[38;5;241m25\u001B[39m)\n\u001B[0;32m---> 10\u001B[0m     train_loss \u001B[38;5;241m=\u001B[39m \u001B[43mtrain_loop\u001B[49m\u001B[43m(\u001B[49m\u001B[43mmodel\u001B[49m\u001B[43m,\u001B[49m\u001B[43m \u001B[49m\u001B[43mopt\u001B[49m\u001B[43m,\u001B[49m\u001B[43m \u001B[49m\u001B[43mloss_fn\u001B[49m\u001B[43m,\u001B[49m\u001B[43m \u001B[49m\u001B[43mtrain_dataloader\u001B[49m\u001B[43m,\u001B[49m\u001B[43m \u001B[49m\u001B[43mt2d\u001B[49m\u001B[43m)\u001B[49m\n\u001B[1;32m     11\u001B[0m     train_loss_list \u001B[38;5;241m+\u001B[39m\u001B[38;5;241m=\u001B[39m [train_loss]\n\u001B[1;32m     15\u001B[0m     \u001B[38;5;28mprint\u001B[39m(\u001B[38;5;124mf\u001B[39m\u001B[38;5;124m\"\u001B[39m\u001B[38;5;124mTraining loss: \u001B[39m\u001B[38;5;132;01m{\u001B[39;00mtrain_loss\u001B[38;5;132;01m:\u001B[39;00m\u001B[38;5;124m.4f\u001B[39m\u001B[38;5;132;01m}\u001B[39;00m\u001B[38;5;124m\"\u001B[39m)\n",
      "Cell \u001B[0;32mIn [20], line 37\u001B[0m, in \u001B[0;36mtrain_loop\u001B[0;34m(model, opt, loss_fn, dataloader, tokens2dims)\u001B[0m\n\u001B[1;32m     33\u001B[0m     opt\u001B[38;5;241m.\u001B[39mstep()\n\u001B[1;32m     35\u001B[0m     total_loss \u001B[38;5;241m+\u001B[39m\u001B[38;5;241m=\u001B[39m loss\u001B[38;5;241m.\u001B[39mdetach()\u001B[38;5;241m.\u001B[39mitem()\n\u001B[0;32m---> 37\u001B[0m \u001B[38;5;28;01mreturn\u001B[39;00m \u001B[43mtotal_loss\u001B[49m\u001B[43m \u001B[49m\u001B[38;5;241;43m/\u001B[39;49m\u001B[43m \u001B[49m\u001B[38;5;28;43mlen\u001B[39;49m\u001B[43m(\u001B[49m\u001B[43mdataloader\u001B[49m\u001B[43m)\u001B[49m\n",
      "\u001B[0;31mZeroDivisionError\u001B[0m: division by zero"
     ]
    }
   ],
   "source": [
    "train_loss_list = fit(model, opt, loss_fn, train_dataloader, tokens2dims, 3)"
   ]
  },
  {
   "cell_type": "markdown",
   "id": "9817677b",
   "metadata": {},
   "source": [
    "## 7. SAMPLING"
   ]
  },
  {
   "cell_type": "code",
   "execution_count": null,
   "id": "ad410c22",
   "metadata": {},
   "outputs": [],
   "source": [
    "X = sample_loop(model, tokens2dims, device)"
   ]
  },
  {
   "cell_type": "code",
   "execution_count": null,
   "id": "96b0fee9",
   "metadata": {},
   "outputs": [],
   "source": [
    "df = pd.DataFrame(X.cpu().numpy()[0,1:,:], \n",
    "                  columns=['Time Half Note', \n",
    "                           'Time Quarter Note',\n",
    "                           'Time 8th Note',\n",
    "                           'Time 16th Note',\n",
    "                           'Time 32nd Note',\n",
    "                           'Time 64th Note',\n",
    "                           'Time 128th Note',\n",
    "                           'Pitch / Instrument',\n",
    "                           'Velocity',\n",
    "                           'Tempo',\n",
    "                           'Beat type'])\n",
    "df"
   ]
  },
  {
   "cell_type": "code",
   "execution_count": null,
   "id": "b505e72c",
   "metadata": {},
   "outputs": [],
   "source": [
    "for k in range(16):\n",
    "    XX = X.cpu().numpy()[k,1:,:]\n",
    "    na = tokens_2_notearray(XX)\n",
    "    save_notearray_2_midifile(na, k, fn = \"PartituraTutorialBeats\")"
   ]
  },
  {
   "cell_type": "code",
   "execution_count": null,
   "id": "334b095b",
   "metadata": {},
   "outputs": [],
   "source": []
  },
  {
   "cell_type": "code",
   "execution_count": null,
   "id": "9cc209ad",
   "metadata": {},
   "outputs": [],
   "source": []
  },
  {
   "cell_type": "code",
   "execution_count": null,
   "id": "fad7727a",
   "metadata": {},
   "outputs": [],
   "source": []
  }
 ],
 "metadata": {
  "kernelspec": {
   "display_name": "Python 3 (ipykernel)",
   "language": "python",
   "name": "python3"
  },
  "language_info": {
   "codemirror_mode": {
    "name": "ipython",
    "version": 3
   },
   "file_extension": ".py",
   "mimetype": "text/x-python",
   "name": "python",
   "nbconvert_exporter": "python",
   "pygments_lexer": "ipython3",
   "version": "3.9.12"
  },
  "vscode": {
   "interpreter": {
    "hash": "172a5ce276eb1d0d801a9beadd7c9d3aac7210a29cee87eb8cc563f5ca08be0c"
   }
  }
 },
 "nbformat": 4,
 "nbformat_minor": 5
}
