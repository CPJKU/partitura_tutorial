{
  "nbformat": 4,
  "nbformat_minor": 0,
  "metadata": {
    "colab": {
      "name": "Partitura tutorial",
      "provenance": [],
      "authorship_tag": "ABX9TyNCzhR7KnjsrjKGf/HDyInO",
      "include_colab_link": true
    },
    "kernelspec": {
      "name": "python3",
      "display_name": "Python 3"
    },
    "language_info": {
      "name": "python"
    }
  },
  "cells": [
    {
      "cell_type": "markdown",
      "metadata": {
        "id": "view-in-github",
        "colab_type": "text"
      },
      "source": [
        "<a href=\"https://colab.research.google.com/github/CPJKU/partitura_tutorial/blob/main/Partitura_tutorial.ipynb\" target=\"_parent\"><img src=\"https://colab.research.google.com/assets/colab-badge.svg\" alt=\"Open In Colab\"/></a>"
      ]
    },
    {
      "cell_type": "markdown",
      "source": [
        "# Install and import\n",
        "\n",
        "Partitura is available in github https://github.com/CPJKU/partitura\n",
        "\n",
        "You can install it with `pip install partitura`.\n",
        "\n",
        "However if you are interested in features that still have to be ufficially release, it's better to install the develop branch.\n",
        "\n",
        "\n",
        "\n"
      ],
      "metadata": {
        "id": "3tvQmcSB7rrL"
      }
    },
    {
      "cell_type": "code",
      "execution_count": null,
      "metadata": {
        "colab": {
          "base_uri": "https://localhost:8080/"
        },
        "id": "PeabdL1k7YC4",
        "outputId": "fcb7d1be-27a1-4c79-c5d3-8cbfa54cae44"
      },
      "outputs": [
        {
          "output_type": "stream",
          "name": "stdout",
          "text": [
            "Collecting git+https://github.com/CPJKU/partitura.git@develop\n",
            "  Cloning https://github.com/CPJKU/partitura.git (to revision develop) to /tmp/pip-req-build-yy06exx0\n",
            "  Running command git clone -q https://github.com/CPJKU/partitura.git /tmp/pip-req-build-yy06exx0\n",
            "  Running command git checkout -b develop --track origin/develop\n",
            "  Switched to a new branch 'develop'\n",
            "  Branch 'develop' set up to track remote branch 'develop' from 'origin'.\n",
            "Requirement already satisfied: numpy in /usr/local/lib/python3.7/dist-packages (from partitura==0.4.0) (1.19.5)\n",
            "Requirement already satisfied: scipy in /usr/local/lib/python3.7/dist-packages (from partitura==0.4.0) (1.4.1)\n",
            "Requirement already satisfied: lxml in /usr/local/lib/python3.7/dist-packages (from partitura==0.4.0) (4.2.6)\n",
            "Requirement already satisfied: lark-parser in /usr/local/lib/python3.7/dist-packages (from partitura==0.4.0) (0.12.0)\n",
            "Requirement already satisfied: xmlschema in /usr/local/lib/python3.7/dist-packages (from partitura==0.4.0) (1.9.2)\n",
            "Requirement already satisfied: mido in /usr/local/lib/python3.7/dist-packages (from partitura==0.4.0) (1.2.10)\n",
            "Requirement already satisfied: elementpath<3.0.0,>=2.4.0 in /usr/local/lib/python3.7/dist-packages (from xmlschema->partitura==0.4.0) (2.4.0)\n"
          ]
        }
      ],
      "source": [
        "! pip install git+https://github.com/CPJKU/partitura.git@develop\n",
        "\n",
        "import partitura"
      ]
    },
    {
      "cell_type": "code",
      "source": [
        ""
      ],
      "metadata": {
        "id": "CX8wCxyK7emp"
      },
      "execution_count": null,
      "outputs": []
    }
  ]
}