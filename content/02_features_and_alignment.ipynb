{
 "cells": [
  {
   "cell_type": "markdown",
   "id": "median-darkness",
   "metadata": {},
   "source": [
    "# Extracting Information from Scores and Performances\n",
    "\n",
    "For MIR tasks we need to extract specific information out of scores or performances. \n",
    "Two of the most common representations are **note arrays** and **piano rolls**. Note that while in the literature, there is some overlap in the way that these terms are used.\n",
    "\n",
    "Partitura provides convenience methods to extract these common features in a few lines!"
   ]
  },
  {
   "cell_type": "code",
   "execution_count": 1,
   "id": "ethical-colombia",
   "metadata": {},
   "outputs": [],
   "source": [
    "import partitura\n",
    "import numpy as np\n",
    "import matplotlib.pyplot as plt"
   ]
  },
  {
   "cell_type": "markdown",
   "id": "abandoned-recipe",
   "metadata": {},
   "source": [
    "## Note Arrays\n",
    "\n",
    "A **note array** is a 2D array in which each row represents a note in the score/performance and each column represents different attributes of the note.\n",
    "\n",
    "In partitura, note arrays are [structured numpy arrays](https://numpy.org/devdocs/user/basics.rec.html), which are ndarrays in which each \"column\" has a name, and can be of different datatypes. \n",
    "This allows us to hold information that can be represented as integers (MIDI pitch/velocity), floating point numbers (e.g., onset time) or strings (e.g., note ids). \n",
    "\n",
    "In this tutorial we are going to cover 3 main cases\n",
    "\n",
    "* Getting a note array from `Part` and `PerformedPart` objects\n",
    "* Extra information and alternative ways to generate a note array\n",
    "* Creating a custom note array from scratch from a `Part` object\n",
    "\n",
    "\n",
    "### 1. Getting a note array from `Part` and `PerformedPart` objects\n",
    "\n",
    "#### Getting a note array from `Part` objects"
   ]
  },
  {
   "cell_type": "code",
   "execution_count": 2,
   "id": "first-basin",
   "metadata": {},
   "outputs": [],
   "source": [
    "# Note array from a score\n",
    "\n",
    "# Path to the MusicXML file\n",
    "score_fn = '../data/musicxml/Chopin_op10_no3.musicxml'\n",
    "\n",
    "# Load the score into a `Part` object\n",
    "score_part = partitura.load_musicxml(score_fn)\n",
    "\n",
    "# Get note array.\n",
    "score_note_array = score_part.note_array"
   ]
  },
  {
   "cell_type": "markdown",
   "id": "toxic-publicity",
   "metadata": {},
   "source": [
    "It is that easy!\n",
    "\n",
    "By default, Partitura includes some of the most common note-level information in the note array:"
   ]
  },
  {
   "cell_type": "code",
   "execution_count": 3,
   "id": "subtle-millennium",
   "metadata": {},
   "outputs": [
    {
     "name": "stdout",
     "output_type": "stream",
     "text": [
      "('onset_beat', 'duration_beat', 'onset_quarter', 'duration_quarter', 'onset_div', 'duration_div', 'pitch', 'voice', 'id')\n"
     ]
    }
   ],
   "source": [
    "print(score_note_array.dtype.names)"
   ]
  },
  {
   "cell_type": "markdown",
   "id": "exact-practice",
   "metadata": {},
   "source": [
    "* `onset_beat` is the onset time in beats (as indicated by the time signature).\n",
    "* `duration_beat` is the duration of the note in beats\n",
    "* `onset_quarter` is the onset time of the note in quarters (independent of the time signature)\n",
    "* `duration_quarter`is the duration of the note in quarters\n",
    "* `onset_div` is the onset of the note in *divs*, which is generally a number that allows to represent the note position and duration losslessly with integers. \n",
    "* `duration_div` is the duration of the note in divs.\n",
    "* `pitch` is the MIDI pitch (MIDI note number) of the note\n",
    "* `voice` is the voice of the note (in polyphonic music, where there can be multiple notes at the same time)\n",
    "* `id` is the note id (as appears in MusicXML or MEI formats)"
   ]
  },
  {
   "cell_type": "code",
   "execution_count": 4,
   "id": "alternate-coordinate",
   "metadata": {},
   "outputs": [
    {
     "name": "stdout",
     "output_type": "stream",
     "text": [
      "[(-0.5, 0.5 , -0.5, 0.5 , 0,  8, 59, 1, 'n1')\n",
      " ( 0. , 0.25,  0. , 0.25, 8,  4, 40, 4, 'n4voice_overlap')\n",
      " ( 0. , 1.  ,  0. , 1.  , 8, 16, 40, 7, 'n4')\n",
      " ( 0. , 0.25,  0. , 0.25, 8,  4, 56, 3, 'n3')\n",
      " ( 0. , 0.5 ,  0. , 0.5 , 8,  8, 64, 1, 'n2')]\n"
     ]
    }
   ],
   "source": [
    "# Lets see the first notes in this note array\n",
    "print(score_note_array[:5])"
   ]
  },
  {
   "cell_type": "markdown",
   "id": "compressed-baseball",
   "metadata": {},
   "source": [
    "#### Getting a note array from a  `PerformedPart`\n",
    "\n",
    "In a similar way, we can obtain a note array from a MIDI file in a few lines"
   ]
  },
  {
   "cell_type": "code",
   "execution_count": 5,
   "id": "passing-lending",
   "metadata": {},
   "outputs": [],
   "source": [
    "# Note array from a performance\n",
    "\n",
    "# Path to the MIDI file\n",
    "performance_fn = '../data/midi/Chopin_op10_no3_p01.mid'\n",
    "\n",
    "# Loading the file to a PerformedPart\n",
    "performance_part = partitura.load_performance_midi(performance_fn)\n",
    "\n",
    "# Get note array!\n",
    "performance_note_array = performance_part.note_array"
   ]
  },
  {
   "cell_type": "markdown",
   "id": "bright-equity",
   "metadata": {},
   "source": [
    "Since performances contain have other information not included in scores, the default fields in the note array are a little bit different:"
   ]
  },
  {
   "cell_type": "code",
   "execution_count": 6,
   "id": "pointed-stupid",
   "metadata": {},
   "outputs": [
    {
     "name": "stdout",
     "output_type": "stream",
     "text": [
      "('onset_sec', 'duration_sec', 'pitch', 'velocity', 'track', 'channel', 'id')\n"
     ]
    }
   ],
   "source": [
    "print(performance_note_array.dtype.names)"
   ]
  },
  {
   "cell_type": "markdown",
   "id": "cathedral-generator",
   "metadata": {},
   "source": [
    "* `onset_sec` is the onset time of the note in seconds\n",
    "* `duration_sec` is the duration of the note in seconds\n",
    "* `pitch` is the MIDI pitch\n",
    "* `velocity` is the MIDI velocity\n",
    "* `track` is the track number in the MIDI file\n",
    "* `channel` is the channel in the MIDI file\n",
    "* `id` is the ID of the notes (automatically generated for MIDI file according to onset time)"
   ]
  },
  {
   "cell_type": "code",
   "execution_count": 7,
   "id": "subject-reducing",
   "metadata": {},
   "outputs": [
    {
     "name": "stdout",
     "output_type": "stream",
     "text": [
      "[(4.9925 , 0.8775 , 59, 44, 1, 0, 'n0')\n",
      " (5.7025 , 2.4375 , 40, 22, 1, 0, 'n1')\n",
      " (5.70375, 2.43625, 64, 54, 1, 0, 'n2')\n",
      " (5.77625, 2.36375, 56, 26, 1, 0, 'n3')\n",
      " (6.4325 , 1.7075 , 47, 20, 1, 0, 'n4')]\n"
     ]
    }
   ],
   "source": [
    "print(performance_note_array[:5])"
   ]
  },
  {
   "cell_type": "markdown",
   "id": "naval-prescription",
   "metadata": {},
   "source": [
    "We can also create a `PerformedPart` directly from a note array"
   ]
  },
  {
   "cell_type": "code",
   "execution_count": 8,
   "id": "spread-performer",
   "metadata": {},
   "outputs": [],
   "source": [
    "note_array = np.array(\n",
    "    [(60, 0, 2, 40),\n",
    "     (65, 0, 1, 15),\n",
    "     (67, 0, 1, 72),\n",
    "     (69, 1, 1, 90),\n",
    "     (66, 2, 1, 80)],\n",
    "    dtype=[(\"pitch\", \"i4\"),\n",
    "           (\"onset_sec\", \"f4\"),\n",
    "           (\"duration_sec\", \"f4\"),\n",
    "           (\"velocity\", \"i4\"),\n",
    "          ]\n",
    ")\n",
    "\n",
    "# Note array to `PerformedPart`\n",
    "performed_part = partitura.performance.PerformedPart.from_note_array(note_array)"
   ]
  },
  {
   "cell_type": "markdown",
   "id": "catholic-dealer",
   "metadata": {},
   "source": [
    "We can then export the `PerformedPart` to a MIDI file!"
   ]
  },
  {
   "cell_type": "code",
   "execution_count": 9,
   "id": "changed-check",
   "metadata": {},
   "outputs": [],
   "source": [
    "# export as MIDI file\n",
    "partitura.save_performance_midi(performed_part, \"example.mid\")"
   ]
  },
  {
   "cell_type": "markdown",
   "id": "accredited-reply",
   "metadata": {},
   "source": [
    "### 2. Extra information and alternative ways to generate a note array\n",
    "\n",
    "Sometimes we require more information in a note array."
   ]
  },
  {
   "cell_type": "code",
   "execution_count": 10,
   "id": "young-harvest",
   "metadata": {},
   "outputs": [],
   "source": [
    "extended_score_note_array = partitura.utils.music.ensure_notearray(\n",
    "    score_part,\n",
    "    include_pitch_spelling=True,\n",
    "    include_key_signature=True,\n",
    "    include_time_signature=True,\n",
    "    include_metrical_position=True,\n",
    "    include_grace_notes=True\n",
    ")"
   ]
  },
  {
   "cell_type": "code",
   "execution_count": 11,
   "id": "concrete-position",
   "metadata": {},
   "outputs": [
    {
     "data": {
      "text/plain": [
       "('onset_beat',\n",
       " 'duration_beat',\n",
       " 'onset_quarter',\n",
       " 'duration_quarter',\n",
       " 'onset_div',\n",
       " 'duration_div',\n",
       " 'pitch',\n",
       " 'voice',\n",
       " 'id',\n",
       " 'step',\n",
       " 'alter',\n",
       " 'octave',\n",
       " 'is_grace',\n",
       " 'grace_type',\n",
       " 'ks_fifths',\n",
       " 'ks_mode',\n",
       " 'ts_beats',\n",
       " 'ts_beat_type',\n",
       " 'is_downbeat',\n",
       " 'rel_onset_div',\n",
       " 'tot_measure_div')"
      ]
     },
     "execution_count": 11,
     "metadata": {},
     "output_type": "execute_result"
    }
   ],
   "source": [
    "extended_score_note_array.dtype.names"
   ]
  },
  {
   "cell_type": "code",
   "execution_count": 12,
   "id": "coupled-sending",
   "metadata": {},
   "outputs": [
    {
     "name": "stdout",
     "output_type": "stream",
     "text": [
      "[(-0.5 , 'B', 0, 3, 4, 1, 0) ( 0.  , 'E', 0, 2, 4, 1, 1)\n",
      " ( 0.  , 'E', 0, 2, 4, 1, 1) ( 0.  , 'G', 1, 3, 4, 1, 1)\n",
      " ( 0.  , 'E', 0, 4, 4, 1, 1) ( 0.25, 'B', 0, 2, 4, 1, 0)\n",
      " ( 0.25, 'B', 0, 3, 4, 1, 0) ( 0.5 , 'G', 1, 3, 4, 1, 0)\n",
      " ( 0.5 , 'D', 1, 4, 4, 1, 0) ( 0.75, 'B', 0, 2, 4, 1, 0)]\n"
     ]
    }
   ],
   "source": [
    "print(extended_score_note_array[['onset_beat', \n",
    "                                 'step', \n",
    "                                 'alter', \n",
    "                                 'octave', \n",
    "                                 'ks_fifths', \n",
    "                                 'ks_mode',\n",
    "                                 'is_downbeat']][:10])"
   ]
  },
  {
   "cell_type": "markdown",
   "id": "iraqi-heater",
   "metadata": {},
   "source": [
    "### 3. Creating a custom note array from scratch from a `Part` object\n",
    "\n",
    "Sometimes we are interested in other note-level information that is not included in the standard note arrays. \n",
    "With partitura we can create such a note array easily!\n",
    "\n",
    "For example, imagine that we want a note array that includes whether the notes have an accent mark."
   ]
  },
  {
   "cell_type": "code",
   "execution_count": 13,
   "id": "interesting-medicaid",
   "metadata": {
    "scrolled": true
   },
   "outputs": [
    {
     "name": "stdout",
     "output_type": "stream",
     "text": [
      "[( 0.25, 47, 1) ( 1.25, 47, 1) ( 2.25, 47, 1) ( 3.  , 68, 1)\n",
      " ( 3.25, 47, 1) ( 4.25, 47, 1) ( 5.25, 47, 1) ( 6.25, 47, 1)\n",
      " ( 7.  , 66, 1) ( 7.25, 47, 1) ( 8.25, 47, 1) ( 9.25, 47, 1)\n",
      " (10.25, 52, 1) (11.25, 52, 1) (12.25, 54, 1) (13.25, 54, 1)\n",
      " (14.25, 54, 1) (15.25, 54, 1) (16.25, 47, 1) (17.25, 47, 1)\n",
      " (18.25, 47, 1) (19.25, 47, 1) (20.25, 47, 1) (21.25, 47, 1)\n",
      " (22.25, 47, 1) (23.25, 47, 1) (24.25, 47, 1) (25.25, 47, 1)\n",
      " (26.25, 52, 1) (27.25, 52, 1) (28.25, 56, 1) (29.25, 56, 1)\n",
      " (32.  , 80, 1)]\n"
     ]
    }
   ],
   "source": [
    "def get_accent_note_array(part):\n",
    "    \n",
    "    fields = [(\"onset_beat\", \"f4\"), \n",
    "              (\"pitch\", \"i4\"),\n",
    "              (\"accent\", \"i4\")]\n",
    "    # Get all notes in the part\n",
    "    notes = part.notes_tied\n",
    "    # Beat map (maps divs to score time in beats)\n",
    "    beat_map = part.beat_map\n",
    "    N = len(notes)\n",
    "    note_array = np.zeros(N, dtype=fields)\n",
    "    for i, n in enumerate(notes):\n",
    "        # MIDI pitch\n",
    "        note_array[i]['pitch'] = n.midi_pitch\n",
    "        # Get the onset time in beats\n",
    "        note_array[i]['onset_beat'] = beat_map(n.start.t)\n",
    "        \n",
    "        # Iterate over articulations in the note\n",
    "        if n.articulations:\n",
    "            for art in n.articulations:\n",
    "                if art == 'accent':\n",
    "                    note_array[i]['accent'] = 1\n",
    "    return note_array\n",
    "\n",
    "accent_note_array = get_accent_note_array(score_part)\n",
    "\n",
    "accented_note_idxs = np.where(accent_note_array['accent'])\n",
    "print(accent_note_array[accented_note_idxs])"
   ]
  },
  {
   "cell_type": "markdown",
   "id": "adjusted-fundamental",
   "metadata": {},
   "source": [
    "## Piano rolls\n",
    "\n",
    "\n",
    "### Extracting a piano roll"
   ]
  },
  {
   "cell_type": "code",
   "execution_count": 14,
   "id": "essential-academy",
   "metadata": {},
   "outputs": [],
   "source": [
    "# TODO: change the example\n",
    "# Path to the MusicXML file\n",
    "score_fn = '../data/musicxml/Chopin_op10_no3.musicxml'\n",
    "\n",
    "# Load the score into a `Part` object\n",
    "score_part = partitura.load_musicxml(score_fn)\n",
    "pianoroll = partitura.utils.compute_pianoroll(score_part)"
   ]
  },
  {
   "cell_type": "markdown",
   "id": "entire-nitrogen",
   "metadata": {},
   "source": [
    "The `compute_pianoroll` method has a few arguments to customize the resulting piano roll"
   ]
  },
  {
   "cell_type": "code",
   "execution_count": 25,
   "id": "massive-monaco",
   "metadata": {},
   "outputs": [],
   "source": [
    "piano_range = True\n",
    "time_unit = 'beat'\n",
    "time_div = 10\n",
    "pianoroll = partitura.utils.compute_pianoroll(\n",
    "    note_info=score_part, # a `Part`, `PerformedPart` or a note array\n",
    "    time_unit=time_unit, # beat, quarter, div, sec, etc. (depending on note_info)\n",
    "    time_div=time_div, # Number of cells per time unit\n",
    "    piano_range=piano_range # Use range of the piano (88 keys)\n",
    ")"
   ]
  },
  {
   "cell_type": "markdown",
   "id": "quality-coast",
   "metadata": {},
   "source": [
    "An important thing to remember is that in piano rolls generated by `compute_pianoroll`, rows (the vertical axis) represent the pitch dimension and the columns (horizontal) the time dimension. \n",
    "This results in a more intuitive way of plotting the piano roll. \n",
    "For other applications the transposed version of this piano roll might be more useful (i.e., rows representing time steps and columns representing pitch information).\n",
    "\n",
    "Since piano rolls can result in very large matrices where most of the elements are 0, the output of `compute_pianoroll` is a [scipy sparse matrix](https://docs.scipy.org/doc/scipy/reference/generated/scipy.sparse.csc_matrix.html). To convert it to a regular numpy array, we can simply use `pianoroll.toarray()`"
   ]
  },
  {
   "cell_type": "markdown",
   "id": "intended-answer",
   "metadata": {},
   "source": [
    "Let's plot the piano roll!"
   ]
  },
  {
   "cell_type": "code",
   "execution_count": 23,
   "id": "mature-dylan",
   "metadata": {},
   "outputs": [
    {
     "data": {
      "image/png": "[encoded data removed]",
      "text/plain": [
       "<Figure size 1440x720 with 1 Axes>"
      ]
     },
     "metadata": {
      "needs_background": "light"
     },
     "output_type": "display_data"
    }
   ],
   "source": [
    "fig, ax = plt.subplots(1, figsize=(20, 10))\n",
    "ax.imshow(pianoroll.toarray(), origin=\"lower\", cmap='gray', interpolation='nearest', aspect='auto')\n",
    "ax.set_xlabel(f'Time ({time_unit}s/{time_div})')\n",
    "ax.set_ylabel('Piano key' if piano_range else 'MIDI pitch')\n",
    "plt.show()"
   ]
  },
  {
   "cell_type": "markdown",
   "id": "funky-tract",
   "metadata": {},
   "source": [
    "In some cases, we want to know the \"coordinates\" of each of the notes in the piano roll. The `compute_pianoroll` method includes an option to return "
   ]
  },
  {
   "cell_type": "code",
   "execution_count": 18,
   "id": "palestinian-owner",
   "metadata": {
    "scrolled": true
   },
   "outputs": [
    {
     "name": "stdout",
     "output_type": "stream",
     "text": [
      "[[59  0  4]\n",
      " [40  4  6]\n",
      " [40  4 12]\n",
      " [56  4  6]\n",
      " [64  4  8]]\n"
     ]
    }
   ],
   "source": [
    "pianoroll, note_indices = partitura.utils.compute_pianoroll(score_part, return_idxs=True)\n",
    "\n",
    "# MIDI pitch, start, end\n",
    "print(note_indices[:5])"
   ]
  },
  {
   "cell_type": "markdown",
   "id": "economic-denial",
   "metadata": {},
   "source": [
    "### Generating a note array from a piano roll\n",
    "\n",
    "Partitura also includes a method to generate a note array from a piano roll, which can be used to generate a MIDI file. \n",
    "This method would be useful, e.g., for music generation tasks"
   ]
  },
  {
   "cell_type": "code",
   "execution_count": 19,
   "id": "parental-links",
   "metadata": {},
   "outputs": [],
   "source": [
    "pianoroll = partitura.utils.compute_pianoroll(score_part)\n",
    "\n",
    "new_note_array = partitura.utils.pianoroll_to_notearray(pianoroll)\n",
    "\n",
    "# We can export the note array to a MIDI file\n",
    "ppart = partitura.performance.PerformedPart.from_note_array(new_note_array)\n",
    "\n",
    "partitura.save_performance_midi(ppart, \"newmidi.mid\")"
   ]
  },
  {
   "cell_type": "markdown",
   "id": "floating-madison",
   "metadata": {},
   "source": [
    "## Handling Alignment Information (Matchfiles)\n",
    "\n"
   ]
  },
  {
   "cell_type": "code",
   "execution_count": 20,
   "id": "latest-smell",
   "metadata": {},
   "outputs": [],
   "source": [
    "match_fn = '../data/match/Chopin_op10_no3_p01.match'\n",
    "\n",
    "ppart, alignment = partitura.load_match(match_fn)"
   ]
  },
  {
   "cell_type": "code",
   "execution_count": 21,
   "id": "radio-interim",
   "metadata": {},
   "outputs": [
    {
     "data": {
      "text/plain": [
       "[{'label': 'match', 'score_id': 'n1', 'performance_id': 0},\n",
       " {'label': 'match', 'score_id': 'n2', 'performance_id': 2},\n",
       " {'label': 'match', 'score_id': 'n3', 'performance_id': 3},\n",
       " {'label': 'match', 'score_id': 'n4', 'performance_id': 1},\n",
       " {'label': 'match', 'score_id': 'n5', 'performance_id': 5},\n",
       " {'label': 'match', 'score_id': 'n6', 'performance_id': 4},\n",
       " {'label': 'match', 'score_id': 'n7', 'performance_id': 6},\n",
       " {'label': 'match', 'score_id': 'n8', 'performance_id': 7},\n",
       " {'label': 'match', 'score_id': 'n9', 'performance_id': 8},\n",
       " {'label': 'match', 'score_id': 'n10', 'performance_id': 9}]"
      ]
     },
     "execution_count": 21,
     "metadata": {},
     "output_type": "execute_result"
    }
   ],
   "source": [
    "alignment[:10]"
   ]
  }
 ],
 "metadata": {
  "kernelspec": {
   "display_name": "Python 3",
   "language": "python",
   "name": "python3"
  },
  "language_info": {
   "codemirror_mode": {
    "name": "ipython",
    "version": 3
   },
   "file_extension": ".py",
   "mimetype": "text/x-python",
   "name": "python",
   "nbconvert_exporter": "python",
   "pygments_lexer": "ipython3",
   "version": "3.7.10"
  }
 },
 "nbformat": 4,
 "nbformat_minor": 5
}
